{
 "cells": [
  {
   "cell_type": "code",
   "execution_count": 2,
   "id": "0013efc5",
   "metadata": {},
   "outputs": [],
   "source": [
    "import numpy as np\n",
    "import pandas as pd \n",
    "import matplotlib.pyplot as plt\n",
    "\n",
    "%matplotlib inline "
   ]
  },
  {
   "cell_type": "code",
   "execution_count": 3,
   "id": "96761bbb",
   "metadata": {},
   "outputs": [],
   "source": [
    "path = '/Users/gabriel/MyProjects/TreinandoAnaliseDados/date/pokemon.csv'\n",
    "df = pd.read_csv(path)"
   ]
  },
  {
   "attachments": {},
   "cell_type": "markdown",
   "id": "6e0475ec",
   "metadata": {},
   "source": [
    "Guias: ```\n",
    "name: o nome em inglês do Pokémon\n",
    "\n",
    "japanese_name: o nome japonês original do Pokémon\n",
    "\n",
    "pokedex_number: o número de entrada do Pokémon no 'National Pokedex'\n",
    "percentage_male: a porcentagem das espécies que são machos. Em branco se o Pokémon não tiver gênero.\n",
    "\n",
    "type1: o tipo primário do Pokémon\n",
    "\n",
    "type2: o tipo secundário do Pokémon\n",
    "\n",
    "classification: a classificação do Pokémon conforme descrito pela Pokédex do Sol e da Lua\n",
    "\n",
    "height_m: altura do Pokémon em metros\n",
    "\n",
    "weight_kg: o peso do Pokémon em quilogramas\n",
    "\n",
    "capture_rate: taxa de captura do Pokémon\n",
    "\n",
    "base_egg_steps: o número de passos necessários para chocar um ovo do Pokémon\n",
    "\n",
    "abilities: uma lista restrita de habilidades que o Pokémon é capaz de ter\n",
    "\n",
    "experience_growth: o crescimento da experiência do Pokémon\n",
    "\n",
    "base_happiness: felicidade base do Pokémon\n",
    "\n",
    "against_?: dezoito recursos que denotam a quantidade de dano recebido contra um ataque de um tipo específico\n",
    "\n",
    "hp: o HP (Pontos de vida) base do Pokémon\n",
    "\n",
    "attack: o ataque base do Pokémon\n",
    "\n",
    "defense: a defesa base do Pokémon\n",
    "\n",
    "sp_attack: o ataque especial base do Pokémon\n",
    "\n",
    "\n",
    "sp_defense: a defesa especial base do Pokémon\n",
    "\n",
    "speed: a velocidade base do Pokémon\n",
    "\n",
    "generation: a geração numerada que o Pokémon foi introduzido pela primeira vez\n",
    "\n",
    "is_legendary: indica se o Pokémon é lendário.\n",
    "```"
   ]
  },
  {
   "attachments": {},
   "cell_type": "markdown",
   "id": "c3592cf1",
   "metadata": {},
   "source": [
    "# Conhecendo os dados "
   ]
  },
  {
   "cell_type": "code",
   "execution_count": 4,
   "id": "db56a13d",
   "metadata": {},
   "outputs": [
    {
     "name": "stdout",
     "output_type": "stream",
     "text": [
      "Shape: (801, 41)\n",
      "Qtdade colunas: 801\n",
      "Qtdade linhas: 41\n"
     ]
    }
   ],
   "source": [
    "# Verificar o tamanho do dataset\n",
    "print(f\"Shape: {df.shape}\")\n",
    "print(f\"Qtdade colunas: {df.shape[0]}\")\n",
    "print(f\"Qtdade linhas: {df.shape[1]}\")"
   ]
  },
  {
   "cell_type": "code",
   "execution_count": 5,
   "id": "035dc153",
   "metadata": {},
   "outputs": [
    {
     "data": {
      "text/html": [
       "<div>\n",
       "<style scoped>\n",
       "    .dataframe tbody tr th:only-of-type {\n",
       "        vertical-align: middle;\n",
       "    }\n",
       "\n",
       "    .dataframe tbody tr th {\n",
       "        vertical-align: top;\n",
       "    }\n",
       "\n",
       "    .dataframe thead th {\n",
       "        text-align: right;\n",
       "    }\n",
       "</style>\n",
       "<table border=\"1\" class=\"dataframe\">\n",
       "  <thead>\n",
       "    <tr style=\"text-align: right;\">\n",
       "      <th></th>\n",
       "      <th>abilities</th>\n",
       "      <th>against_bug</th>\n",
       "      <th>against_dark</th>\n",
       "      <th>against_dragon</th>\n",
       "      <th>against_electric</th>\n",
       "      <th>against_fairy</th>\n",
       "      <th>against_fight</th>\n",
       "      <th>against_fire</th>\n",
       "      <th>against_flying</th>\n",
       "      <th>against_ghost</th>\n",
       "      <th>against_grass</th>\n",
       "      <th>against_ground</th>\n",
       "      <th>against_ice</th>\n",
       "      <th>against_normal</th>\n",
       "      <th>against_poison</th>\n",
       "      <th>against_psychic</th>\n",
       "      <th>against_rock</th>\n",
       "      <th>against_steel</th>\n",
       "      <th>against_water</th>\n",
       "      <th>attack</th>\n",
       "      <th>base_egg_steps</th>\n",
       "      <th>base_happiness</th>\n",
       "      <th>base_total</th>\n",
       "      <th>capture_rate</th>\n",
       "      <th>classfication</th>\n",
       "      <th>defense</th>\n",
       "      <th>experience_growth</th>\n",
       "      <th>height_m</th>\n",
       "      <th>hp</th>\n",
       "      <th>japanese_name</th>\n",
       "      <th>name</th>\n",
       "      <th>percentage_male</th>\n",
       "      <th>pokedex_number</th>\n",
       "      <th>sp_attack</th>\n",
       "      <th>sp_defense</th>\n",
       "      <th>speed</th>\n",
       "      <th>type1</th>\n",
       "      <th>type2</th>\n",
       "      <th>weight_kg</th>\n",
       "      <th>generation</th>\n",
       "      <th>is_legendary</th>\n",
       "    </tr>\n",
       "  </thead>\n",
       "  <tbody>\n",
       "    <tr>\n",
       "      <th>0</th>\n",
       "      <td>['Overgrow', 'Chlorophyll']</td>\n",
       "      <td>1.0</td>\n",
       "      <td>1.0</td>\n",
       "      <td>1.0</td>\n",
       "      <td>0.5</td>\n",
       "      <td>0.5</td>\n",
       "      <td>0.5</td>\n",
       "      <td>2.0</td>\n",
       "      <td>2.0</td>\n",
       "      <td>1.0</td>\n",
       "      <td>0.25</td>\n",
       "      <td>1.0</td>\n",
       "      <td>2.0</td>\n",
       "      <td>1.0</td>\n",
       "      <td>1.0</td>\n",
       "      <td>2.0</td>\n",
       "      <td>1.0</td>\n",
       "      <td>1.0</td>\n",
       "      <td>0.5</td>\n",
       "      <td>49</td>\n",
       "      <td>5120</td>\n",
       "      <td>70</td>\n",
       "      <td>318</td>\n",
       "      <td>45</td>\n",
       "      <td>Seed Pokémon</td>\n",
       "      <td>49</td>\n",
       "      <td>1059860</td>\n",
       "      <td>0.7</td>\n",
       "      <td>45</td>\n",
       "      <td>Fushigidaneフシギダネ</td>\n",
       "      <td>Bulbasaur</td>\n",
       "      <td>88.1</td>\n",
       "      <td>1</td>\n",
       "      <td>65</td>\n",
       "      <td>65</td>\n",
       "      <td>45</td>\n",
       "      <td>grass</td>\n",
       "      <td>poison</td>\n",
       "      <td>6.9</td>\n",
       "      <td>1</td>\n",
       "      <td>0</td>\n",
       "    </tr>\n",
       "    <tr>\n",
       "      <th>1</th>\n",
       "      <td>['Overgrow', 'Chlorophyll']</td>\n",
       "      <td>1.0</td>\n",
       "      <td>1.0</td>\n",
       "      <td>1.0</td>\n",
       "      <td>0.5</td>\n",
       "      <td>0.5</td>\n",
       "      <td>0.5</td>\n",
       "      <td>2.0</td>\n",
       "      <td>2.0</td>\n",
       "      <td>1.0</td>\n",
       "      <td>0.25</td>\n",
       "      <td>1.0</td>\n",
       "      <td>2.0</td>\n",
       "      <td>1.0</td>\n",
       "      <td>1.0</td>\n",
       "      <td>2.0</td>\n",
       "      <td>1.0</td>\n",
       "      <td>1.0</td>\n",
       "      <td>0.5</td>\n",
       "      <td>62</td>\n",
       "      <td>5120</td>\n",
       "      <td>70</td>\n",
       "      <td>405</td>\n",
       "      <td>45</td>\n",
       "      <td>Seed Pokémon</td>\n",
       "      <td>63</td>\n",
       "      <td>1059860</td>\n",
       "      <td>1.0</td>\n",
       "      <td>60</td>\n",
       "      <td>Fushigisouフシギソウ</td>\n",
       "      <td>Ivysaur</td>\n",
       "      <td>88.1</td>\n",
       "      <td>2</td>\n",
       "      <td>80</td>\n",
       "      <td>80</td>\n",
       "      <td>60</td>\n",
       "      <td>grass</td>\n",
       "      <td>poison</td>\n",
       "      <td>13.0</td>\n",
       "      <td>1</td>\n",
       "      <td>0</td>\n",
       "    </tr>\n",
       "    <tr>\n",
       "      <th>2</th>\n",
       "      <td>['Overgrow', 'Chlorophyll']</td>\n",
       "      <td>1.0</td>\n",
       "      <td>1.0</td>\n",
       "      <td>1.0</td>\n",
       "      <td>0.5</td>\n",
       "      <td>0.5</td>\n",
       "      <td>0.5</td>\n",
       "      <td>2.0</td>\n",
       "      <td>2.0</td>\n",
       "      <td>1.0</td>\n",
       "      <td>0.25</td>\n",
       "      <td>1.0</td>\n",
       "      <td>2.0</td>\n",
       "      <td>1.0</td>\n",
       "      <td>1.0</td>\n",
       "      <td>2.0</td>\n",
       "      <td>1.0</td>\n",
       "      <td>1.0</td>\n",
       "      <td>0.5</td>\n",
       "      <td>100</td>\n",
       "      <td>5120</td>\n",
       "      <td>70</td>\n",
       "      <td>625</td>\n",
       "      <td>45</td>\n",
       "      <td>Seed Pokémon</td>\n",
       "      <td>123</td>\n",
       "      <td>1059860</td>\n",
       "      <td>2.0</td>\n",
       "      <td>80</td>\n",
       "      <td>Fushigibanaフシギバナ</td>\n",
       "      <td>Venusaur</td>\n",
       "      <td>88.1</td>\n",
       "      <td>3</td>\n",
       "      <td>122</td>\n",
       "      <td>120</td>\n",
       "      <td>80</td>\n",
       "      <td>grass</td>\n",
       "      <td>poison</td>\n",
       "      <td>100.0</td>\n",
       "      <td>1</td>\n",
       "      <td>0</td>\n",
       "    </tr>\n",
       "    <tr>\n",
       "      <th>3</th>\n",
       "      <td>['Blaze', 'Solar Power']</td>\n",
       "      <td>0.5</td>\n",
       "      <td>1.0</td>\n",
       "      <td>1.0</td>\n",
       "      <td>1.0</td>\n",
       "      <td>0.5</td>\n",
       "      <td>1.0</td>\n",
       "      <td>0.5</td>\n",
       "      <td>1.0</td>\n",
       "      <td>1.0</td>\n",
       "      <td>0.50</td>\n",
       "      <td>2.0</td>\n",
       "      <td>0.5</td>\n",
       "      <td>1.0</td>\n",
       "      <td>1.0</td>\n",
       "      <td>1.0</td>\n",
       "      <td>2.0</td>\n",
       "      <td>0.5</td>\n",
       "      <td>2.0</td>\n",
       "      <td>52</td>\n",
       "      <td>5120</td>\n",
       "      <td>70</td>\n",
       "      <td>309</td>\n",
       "      <td>45</td>\n",
       "      <td>Lizard Pokémon</td>\n",
       "      <td>43</td>\n",
       "      <td>1059860</td>\n",
       "      <td>0.6</td>\n",
       "      <td>39</td>\n",
       "      <td>Hitokageヒトカゲ</td>\n",
       "      <td>Charmander</td>\n",
       "      <td>88.1</td>\n",
       "      <td>4</td>\n",
       "      <td>60</td>\n",
       "      <td>50</td>\n",
       "      <td>65</td>\n",
       "      <td>fire</td>\n",
       "      <td>NaN</td>\n",
       "      <td>8.5</td>\n",
       "      <td>1</td>\n",
       "      <td>0</td>\n",
       "    </tr>\n",
       "    <tr>\n",
       "      <th>4</th>\n",
       "      <td>['Blaze', 'Solar Power']</td>\n",
       "      <td>0.5</td>\n",
       "      <td>1.0</td>\n",
       "      <td>1.0</td>\n",
       "      <td>1.0</td>\n",
       "      <td>0.5</td>\n",
       "      <td>1.0</td>\n",
       "      <td>0.5</td>\n",
       "      <td>1.0</td>\n",
       "      <td>1.0</td>\n",
       "      <td>0.50</td>\n",
       "      <td>2.0</td>\n",
       "      <td>0.5</td>\n",
       "      <td>1.0</td>\n",
       "      <td>1.0</td>\n",
       "      <td>1.0</td>\n",
       "      <td>2.0</td>\n",
       "      <td>0.5</td>\n",
       "      <td>2.0</td>\n",
       "      <td>64</td>\n",
       "      <td>5120</td>\n",
       "      <td>70</td>\n",
       "      <td>405</td>\n",
       "      <td>45</td>\n",
       "      <td>Flame Pokémon</td>\n",
       "      <td>58</td>\n",
       "      <td>1059860</td>\n",
       "      <td>1.1</td>\n",
       "      <td>58</td>\n",
       "      <td>Lizardoリザード</td>\n",
       "      <td>Charmeleon</td>\n",
       "      <td>88.1</td>\n",
       "      <td>5</td>\n",
       "      <td>80</td>\n",
       "      <td>65</td>\n",
       "      <td>80</td>\n",
       "      <td>fire</td>\n",
       "      <td>NaN</td>\n",
       "      <td>19.0</td>\n",
       "      <td>1</td>\n",
       "      <td>0</td>\n",
       "    </tr>\n",
       "  </tbody>\n",
       "</table>\n",
       "</div>"
      ],
      "text/plain": [
       "                     abilities  against_bug  against_dark  against_dragon  \\\n",
       "0  ['Overgrow', 'Chlorophyll']          1.0           1.0             1.0   \n",
       "1  ['Overgrow', 'Chlorophyll']          1.0           1.0             1.0   \n",
       "2  ['Overgrow', 'Chlorophyll']          1.0           1.0             1.0   \n",
       "3     ['Blaze', 'Solar Power']          0.5           1.0             1.0   \n",
       "4     ['Blaze', 'Solar Power']          0.5           1.0             1.0   \n",
       "\n",
       "   against_electric  against_fairy  against_fight  against_fire  \\\n",
       "0               0.5            0.5            0.5           2.0   \n",
       "1               0.5            0.5            0.5           2.0   \n",
       "2               0.5            0.5            0.5           2.0   \n",
       "3               1.0            0.5            1.0           0.5   \n",
       "4               1.0            0.5            1.0           0.5   \n",
       "\n",
       "   against_flying  against_ghost  against_grass  against_ground  against_ice  \\\n",
       "0             2.0            1.0           0.25             1.0          2.0   \n",
       "1             2.0            1.0           0.25             1.0          2.0   \n",
       "2             2.0            1.0           0.25             1.0          2.0   \n",
       "3             1.0            1.0           0.50             2.0          0.5   \n",
       "4             1.0            1.0           0.50             2.0          0.5   \n",
       "\n",
       "   against_normal  against_poison  against_psychic  against_rock  \\\n",
       "0             1.0             1.0              2.0           1.0   \n",
       "1             1.0             1.0              2.0           1.0   \n",
       "2             1.0             1.0              2.0           1.0   \n",
       "3             1.0             1.0              1.0           2.0   \n",
       "4             1.0             1.0              1.0           2.0   \n",
       "\n",
       "   against_steel  against_water  attack  base_egg_steps  base_happiness  \\\n",
       "0            1.0            0.5      49            5120              70   \n",
       "1            1.0            0.5      62            5120              70   \n",
       "2            1.0            0.5     100            5120              70   \n",
       "3            0.5            2.0      52            5120              70   \n",
       "4            0.5            2.0      64            5120              70   \n",
       "\n",
       "   base_total capture_rate   classfication  defense  experience_growth  \\\n",
       "0         318           45    Seed Pokémon       49            1059860   \n",
       "1         405           45    Seed Pokémon       63            1059860   \n",
       "2         625           45    Seed Pokémon      123            1059860   \n",
       "3         309           45  Lizard Pokémon       43            1059860   \n",
       "4         405           45   Flame Pokémon       58            1059860   \n",
       "\n",
       "   height_m  hp     japanese_name        name  percentage_male  \\\n",
       "0       0.7  45  Fushigidaneフシギダネ   Bulbasaur             88.1   \n",
       "1       1.0  60   Fushigisouフシギソウ     Ivysaur             88.1   \n",
       "2       2.0  80  Fushigibanaフシギバナ    Venusaur             88.1   \n",
       "3       0.6  39      Hitokageヒトカゲ  Charmander             88.1   \n",
       "4       1.1  58       Lizardoリザード  Charmeleon             88.1   \n",
       "\n",
       "   pokedex_number  sp_attack  sp_defense  speed  type1   type2  weight_kg  \\\n",
       "0               1         65          65     45  grass  poison        6.9   \n",
       "1               2         80          80     60  grass  poison       13.0   \n",
       "2               3        122         120     80  grass  poison      100.0   \n",
       "3               4         60          50     65   fire     NaN        8.5   \n",
       "4               5         80          65     80   fire     NaN       19.0   \n",
       "\n",
       "   generation  is_legendary  \n",
       "0           1             0  \n",
       "1           1             0  \n",
       "2           1             0  \n",
       "3           1             0  \n",
       "4           1             0  "
      ]
     },
     "execution_count": 5,
     "metadata": {},
     "output_type": "execute_result"
    }
   ],
   "source": [
    "pd.set_option('display.max_columns', None)\n",
    "df.head()"
   ]
  },
  {
   "cell_type": "code",
   "execution_count": 6,
   "id": "4e3d78c9",
   "metadata": {},
   "outputs": [
    {
     "name": "stdout",
     "output_type": "stream",
     "text": [
      "<class 'pandas.core.frame.DataFrame'>\n",
      "RangeIndex: 801 entries, 0 to 800\n",
      "Data columns (total 41 columns):\n",
      " #   Column             Non-Null Count  Dtype  \n",
      "---  ------             --------------  -----  \n",
      " 0   abilities          801 non-null    object \n",
      " 1   against_bug        801 non-null    float64\n",
      " 2   against_dark       801 non-null    float64\n",
      " 3   against_dragon     801 non-null    float64\n",
      " 4   against_electric   801 non-null    float64\n",
      " 5   against_fairy      801 non-null    float64\n",
      " 6   against_fight      801 non-null    float64\n",
      " 7   against_fire       801 non-null    float64\n",
      " 8   against_flying     801 non-null    float64\n",
      " 9   against_ghost      801 non-null    float64\n",
      " 10  against_grass      801 non-null    float64\n",
      " 11  against_ground     801 non-null    float64\n",
      " 12  against_ice        801 non-null    float64\n",
      " 13  against_normal     801 non-null    float64\n",
      " 14  against_poison     801 non-null    float64\n",
      " 15  against_psychic    801 non-null    float64\n",
      " 16  against_rock       801 non-null    float64\n",
      " 17  against_steel      801 non-null    float64\n",
      " 18  against_water      801 non-null    float64\n",
      " 19  attack             801 non-null    int64  \n",
      " 20  base_egg_steps     801 non-null    int64  \n",
      " 21  base_happiness     801 non-null    int64  \n",
      " 22  base_total         801 non-null    int64  \n",
      " 23  capture_rate       801 non-null    object \n",
      " 24  classfication      801 non-null    object \n",
      " 25  defense            801 non-null    int64  \n",
      " 26  experience_growth  801 non-null    int64  \n",
      " 27  height_m           781 non-null    float64\n",
      " 28  hp                 801 non-null    int64  \n",
      " 29  japanese_name      801 non-null    object \n",
      " 30  name               801 non-null    object \n",
      " 31  percentage_male    703 non-null    float64\n",
      " 32  pokedex_number     801 non-null    int64  \n",
      " 33  sp_attack          801 non-null    int64  \n",
      " 34  sp_defense         801 non-null    int64  \n",
      " 35  speed              801 non-null    int64  \n",
      " 36  type1              801 non-null    object \n",
      " 37  type2              417 non-null    object \n",
      " 38  weight_kg          781 non-null    float64\n",
      " 39  generation         801 non-null    int64  \n",
      " 40  is_legendary       801 non-null    int64  \n",
      "dtypes: float64(21), int64(13), object(7)\n",
      "memory usage: 256.7+ KB\n"
     ]
    }
   ],
   "source": [
    "df.info()"
   ]
  },
  {
   "cell_type": "code",
   "execution_count": 7,
   "id": "f3bb2bcd",
   "metadata": {},
   "outputs": [
    {
     "data": {
      "text/plain": [
       "water       114\n",
       "normal      105\n",
       "grass        78\n",
       "bug          72\n",
       "psychic      53\n",
       "fire         52\n",
       "rock         45\n",
       "electric     39\n",
       "poison       32\n",
       "ground       32\n",
       "dark         29\n",
       "fighting     28\n",
       "ghost        27\n",
       "dragon       27\n",
       "steel        24\n",
       "ice          23\n",
       "fairy        18\n",
       "flying        3\n",
       "Name: type1, dtype: int64"
      ]
     },
     "execution_count": 7,
     "metadata": {},
     "output_type": "execute_result"
    }
   ],
   "source": [
    "df.type1.value_counts()"
   ]
  },
  {
   "cell_type": "code",
   "execution_count": 8,
   "id": "d4be769c",
   "metadata": {},
   "outputs": [
    {
     "data": {
      "text/plain": [
       "NaN         384\n",
       "flying       95\n",
       "poison       34\n",
       "ground       34\n",
       "psychic      29\n",
       "fairy        29\n",
       "fighting     25\n",
       "steel        22\n",
       "dark         21\n",
       "grass        20\n",
       "water        17\n",
       "dragon       17\n",
       "ice          15\n",
       "rock         14\n",
       "ghost        14\n",
       "fire         13\n",
       "electric      9\n",
       "bug           5\n",
       "normal        4\n",
       "Name: type2, dtype: int64"
      ]
     },
     "execution_count": 8,
     "metadata": {},
     "output_type": "execute_result"
    }
   ],
   "source": [
    "#df.type2.value_counts(normalize=True, dropna=False) * 100 # -> para pegar o percentual\n",
    "df.type2.value_counts(dropna=False)"
   ]
  },
  {
   "cell_type": "code",
   "execution_count": 9,
   "id": "89679a51",
   "metadata": {},
   "outputs": [
    {
     "data": {
      "text/html": [
       "<div>\n",
       "<style scoped>\n",
       "    .dataframe tbody tr th:only-of-type {\n",
       "        vertical-align: middle;\n",
       "    }\n",
       "\n",
       "    .dataframe tbody tr th {\n",
       "        vertical-align: top;\n",
       "    }\n",
       "\n",
       "    .dataframe thead th {\n",
       "        text-align: right;\n",
       "    }\n",
       "</style>\n",
       "<table border=\"1\" class=\"dataframe\">\n",
       "  <thead>\n",
       "    <tr style=\"text-align: right;\">\n",
       "      <th></th>\n",
       "      <th>count</th>\n",
       "      <th>mean</th>\n",
       "      <th>std</th>\n",
       "      <th>min</th>\n",
       "      <th>25%</th>\n",
       "      <th>50%</th>\n",
       "      <th>75%</th>\n",
       "      <th>max</th>\n",
       "    </tr>\n",
       "  </thead>\n",
       "  <tbody>\n",
       "    <tr>\n",
       "      <th>against_bug</th>\n",
       "      <td>801.0</td>\n",
       "      <td>9.962547e-01</td>\n",
       "      <td>0.597248</td>\n",
       "      <td>0.25</td>\n",
       "      <td>0.5</td>\n",
       "      <td>1.0</td>\n",
       "      <td>1.0</td>\n",
       "      <td>4.0</td>\n",
       "    </tr>\n",
       "    <tr>\n",
       "      <th>against_dark</th>\n",
       "      <td>801.0</td>\n",
       "      <td>1.057116e+00</td>\n",
       "      <td>0.438142</td>\n",
       "      <td>0.25</td>\n",
       "      <td>1.0</td>\n",
       "      <td>1.0</td>\n",
       "      <td>1.0</td>\n",
       "      <td>4.0</td>\n",
       "    </tr>\n",
       "    <tr>\n",
       "      <th>against_dragon</th>\n",
       "      <td>801.0</td>\n",
       "      <td>9.687890e-01</td>\n",
       "      <td>0.353058</td>\n",
       "      <td>0.00</td>\n",
       "      <td>1.0</td>\n",
       "      <td>1.0</td>\n",
       "      <td>1.0</td>\n",
       "      <td>2.0</td>\n",
       "    </tr>\n",
       "    <tr>\n",
       "      <th>against_electric</th>\n",
       "      <td>801.0</td>\n",
       "      <td>1.073970e+00</td>\n",
       "      <td>0.654962</td>\n",
       "      <td>0.00</td>\n",
       "      <td>0.5</td>\n",
       "      <td>1.0</td>\n",
       "      <td>1.0</td>\n",
       "      <td>4.0</td>\n",
       "    </tr>\n",
       "    <tr>\n",
       "      <th>against_fairy</th>\n",
       "      <td>801.0</td>\n",
       "      <td>1.068976e+00</td>\n",
       "      <td>0.522167</td>\n",
       "      <td>0.25</td>\n",
       "      <td>1.0</td>\n",
       "      <td>1.0</td>\n",
       "      <td>1.0</td>\n",
       "      <td>4.0</td>\n",
       "    </tr>\n",
       "    <tr>\n",
       "      <th>against_fight</th>\n",
       "      <td>801.0</td>\n",
       "      <td>1.065543e+00</td>\n",
       "      <td>0.717251</td>\n",
       "      <td>0.00</td>\n",
       "      <td>0.5</td>\n",
       "      <td>1.0</td>\n",
       "      <td>1.0</td>\n",
       "      <td>4.0</td>\n",
       "    </tr>\n",
       "    <tr>\n",
       "      <th>against_fire</th>\n",
       "      <td>801.0</td>\n",
       "      <td>1.135456e+00</td>\n",
       "      <td>0.691853</td>\n",
       "      <td>0.25</td>\n",
       "      <td>0.5</td>\n",
       "      <td>1.0</td>\n",
       "      <td>2.0</td>\n",
       "      <td>4.0</td>\n",
       "    </tr>\n",
       "    <tr>\n",
       "      <th>against_flying</th>\n",
       "      <td>801.0</td>\n",
       "      <td>1.192884e+00</td>\n",
       "      <td>0.604488</td>\n",
       "      <td>0.25</td>\n",
       "      <td>1.0</td>\n",
       "      <td>1.0</td>\n",
       "      <td>1.0</td>\n",
       "      <td>4.0</td>\n",
       "    </tr>\n",
       "    <tr>\n",
       "      <th>against_ghost</th>\n",
       "      <td>801.0</td>\n",
       "      <td>9.850187e-01</td>\n",
       "      <td>0.558256</td>\n",
       "      <td>0.00</td>\n",
       "      <td>1.0</td>\n",
       "      <td>1.0</td>\n",
       "      <td>1.0</td>\n",
       "      <td>4.0</td>\n",
       "    </tr>\n",
       "    <tr>\n",
       "      <th>against_grass</th>\n",
       "      <td>801.0</td>\n",
       "      <td>1.034020e+00</td>\n",
       "      <td>0.788896</td>\n",
       "      <td>0.25</td>\n",
       "      <td>0.5</td>\n",
       "      <td>1.0</td>\n",
       "      <td>1.0</td>\n",
       "      <td>4.0</td>\n",
       "    </tr>\n",
       "    <tr>\n",
       "      <th>against_ground</th>\n",
       "      <td>801.0</td>\n",
       "      <td>1.098002e+00</td>\n",
       "      <td>0.738818</td>\n",
       "      <td>0.00</td>\n",
       "      <td>1.0</td>\n",
       "      <td>1.0</td>\n",
       "      <td>1.0</td>\n",
       "      <td>4.0</td>\n",
       "    </tr>\n",
       "    <tr>\n",
       "      <th>against_ice</th>\n",
       "      <td>801.0</td>\n",
       "      <td>1.208177e+00</td>\n",
       "      <td>0.735356</td>\n",
       "      <td>0.25</td>\n",
       "      <td>0.5</td>\n",
       "      <td>1.0</td>\n",
       "      <td>2.0</td>\n",
       "      <td>4.0</td>\n",
       "    </tr>\n",
       "    <tr>\n",
       "      <th>against_normal</th>\n",
       "      <td>801.0</td>\n",
       "      <td>8.870162e-01</td>\n",
       "      <td>0.266106</td>\n",
       "      <td>0.00</td>\n",
       "      <td>1.0</td>\n",
       "      <td>1.0</td>\n",
       "      <td>1.0</td>\n",
       "      <td>1.0</td>\n",
       "    </tr>\n",
       "    <tr>\n",
       "      <th>against_poison</th>\n",
       "      <td>801.0</td>\n",
       "      <td>9.753433e-01</td>\n",
       "      <td>0.549375</td>\n",
       "      <td>0.00</td>\n",
       "      <td>0.5</td>\n",
       "      <td>1.0</td>\n",
       "      <td>1.0</td>\n",
       "      <td>4.0</td>\n",
       "    </tr>\n",
       "    <tr>\n",
       "      <th>against_psychic</th>\n",
       "      <td>801.0</td>\n",
       "      <td>1.005306e+00</td>\n",
       "      <td>0.495183</td>\n",
       "      <td>0.00</td>\n",
       "      <td>1.0</td>\n",
       "      <td>1.0</td>\n",
       "      <td>1.0</td>\n",
       "      <td>4.0</td>\n",
       "    </tr>\n",
       "    <tr>\n",
       "      <th>against_rock</th>\n",
       "      <td>801.0</td>\n",
       "      <td>1.250312e+00</td>\n",
       "      <td>0.697148</td>\n",
       "      <td>0.25</td>\n",
       "      <td>1.0</td>\n",
       "      <td>1.0</td>\n",
       "      <td>2.0</td>\n",
       "      <td>4.0</td>\n",
       "    </tr>\n",
       "    <tr>\n",
       "      <th>against_steel</th>\n",
       "      <td>801.0</td>\n",
       "      <td>9.834582e-01</td>\n",
       "      <td>0.500117</td>\n",
       "      <td>0.25</td>\n",
       "      <td>0.5</td>\n",
       "      <td>1.0</td>\n",
       "      <td>1.0</td>\n",
       "      <td>4.0</td>\n",
       "    </tr>\n",
       "    <tr>\n",
       "      <th>against_water</th>\n",
       "      <td>801.0</td>\n",
       "      <td>1.058365e+00</td>\n",
       "      <td>0.606562</td>\n",
       "      <td>0.25</td>\n",
       "      <td>0.5</td>\n",
       "      <td>1.0</td>\n",
       "      <td>1.0</td>\n",
       "      <td>4.0</td>\n",
       "    </tr>\n",
       "    <tr>\n",
       "      <th>attack</th>\n",
       "      <td>801.0</td>\n",
       "      <td>7.785768e+01</td>\n",
       "      <td>32.158820</td>\n",
       "      <td>5.00</td>\n",
       "      <td>55.0</td>\n",
       "      <td>75.0</td>\n",
       "      <td>100.0</td>\n",
       "      <td>185.0</td>\n",
       "    </tr>\n",
       "    <tr>\n",
       "      <th>base_egg_steps</th>\n",
       "      <td>801.0</td>\n",
       "      <td>7.191011e+03</td>\n",
       "      <td>6558.220422</td>\n",
       "      <td>1280.00</td>\n",
       "      <td>5120.0</td>\n",
       "      <td>5120.0</td>\n",
       "      <td>6400.0</td>\n",
       "      <td>30720.0</td>\n",
       "    </tr>\n",
       "    <tr>\n",
       "      <th>base_happiness</th>\n",
       "      <td>801.0</td>\n",
       "      <td>6.536205e+01</td>\n",
       "      <td>19.598948</td>\n",
       "      <td>0.00</td>\n",
       "      <td>70.0</td>\n",
       "      <td>70.0</td>\n",
       "      <td>70.0</td>\n",
       "      <td>140.0</td>\n",
       "    </tr>\n",
       "    <tr>\n",
       "      <th>base_total</th>\n",
       "      <td>801.0</td>\n",
       "      <td>4.283770e+02</td>\n",
       "      <td>119.203577</td>\n",
       "      <td>180.00</td>\n",
       "      <td>320.0</td>\n",
       "      <td>435.0</td>\n",
       "      <td>505.0</td>\n",
       "      <td>780.0</td>\n",
       "    </tr>\n",
       "    <tr>\n",
       "      <th>defense</th>\n",
       "      <td>801.0</td>\n",
       "      <td>7.300874e+01</td>\n",
       "      <td>30.769159</td>\n",
       "      <td>5.00</td>\n",
       "      <td>50.0</td>\n",
       "      <td>70.0</td>\n",
       "      <td>90.0</td>\n",
       "      <td>230.0</td>\n",
       "    </tr>\n",
       "    <tr>\n",
       "      <th>experience_growth</th>\n",
       "      <td>801.0</td>\n",
       "      <td>1.054996e+06</td>\n",
       "      <td>160255.835096</td>\n",
       "      <td>600000.00</td>\n",
       "      <td>1000000.0</td>\n",
       "      <td>1000000.0</td>\n",
       "      <td>1059860.0</td>\n",
       "      <td>1640000.0</td>\n",
       "    </tr>\n",
       "    <tr>\n",
       "      <th>height_m</th>\n",
       "      <td>781.0</td>\n",
       "      <td>1.163892e+00</td>\n",
       "      <td>1.080326</td>\n",
       "      <td>0.10</td>\n",
       "      <td>0.6</td>\n",
       "      <td>1.0</td>\n",
       "      <td>1.5</td>\n",
       "      <td>14.5</td>\n",
       "    </tr>\n",
       "    <tr>\n",
       "      <th>hp</th>\n",
       "      <td>801.0</td>\n",
       "      <td>6.895880e+01</td>\n",
       "      <td>26.576015</td>\n",
       "      <td>1.00</td>\n",
       "      <td>50.0</td>\n",
       "      <td>65.0</td>\n",
       "      <td>80.0</td>\n",
       "      <td>255.0</td>\n",
       "    </tr>\n",
       "    <tr>\n",
       "      <th>percentage_male</th>\n",
       "      <td>703.0</td>\n",
       "      <td>5.515576e+01</td>\n",
       "      <td>20.261623</td>\n",
       "      <td>0.00</td>\n",
       "      <td>50.0</td>\n",
       "      <td>50.0</td>\n",
       "      <td>50.0</td>\n",
       "      <td>100.0</td>\n",
       "    </tr>\n",
       "    <tr>\n",
       "      <th>pokedex_number</th>\n",
       "      <td>801.0</td>\n",
       "      <td>4.010000e+02</td>\n",
       "      <td>231.373075</td>\n",
       "      <td>1.00</td>\n",
       "      <td>201.0</td>\n",
       "      <td>401.0</td>\n",
       "      <td>601.0</td>\n",
       "      <td>801.0</td>\n",
       "    </tr>\n",
       "    <tr>\n",
       "      <th>sp_attack</th>\n",
       "      <td>801.0</td>\n",
       "      <td>7.130587e+01</td>\n",
       "      <td>32.353826</td>\n",
       "      <td>10.00</td>\n",
       "      <td>45.0</td>\n",
       "      <td>65.0</td>\n",
       "      <td>91.0</td>\n",
       "      <td>194.0</td>\n",
       "    </tr>\n",
       "    <tr>\n",
       "      <th>sp_defense</th>\n",
       "      <td>801.0</td>\n",
       "      <td>7.091136e+01</td>\n",
       "      <td>27.942501</td>\n",
       "      <td>20.00</td>\n",
       "      <td>50.0</td>\n",
       "      <td>66.0</td>\n",
       "      <td>90.0</td>\n",
       "      <td>230.0</td>\n",
       "    </tr>\n",
       "    <tr>\n",
       "      <th>speed</th>\n",
       "      <td>801.0</td>\n",
       "      <td>6.633458e+01</td>\n",
       "      <td>28.907662</td>\n",
       "      <td>5.00</td>\n",
       "      <td>45.0</td>\n",
       "      <td>65.0</td>\n",
       "      <td>85.0</td>\n",
       "      <td>180.0</td>\n",
       "    </tr>\n",
       "    <tr>\n",
       "      <th>weight_kg</th>\n",
       "      <td>781.0</td>\n",
       "      <td>6.137810e+01</td>\n",
       "      <td>109.354766</td>\n",
       "      <td>0.10</td>\n",
       "      <td>9.0</td>\n",
       "      <td>27.3</td>\n",
       "      <td>64.8</td>\n",
       "      <td>999.9</td>\n",
       "    </tr>\n",
       "    <tr>\n",
       "      <th>generation</th>\n",
       "      <td>801.0</td>\n",
       "      <td>3.690387e+00</td>\n",
       "      <td>1.930420</td>\n",
       "      <td>1.00</td>\n",
       "      <td>2.0</td>\n",
       "      <td>4.0</td>\n",
       "      <td>5.0</td>\n",
       "      <td>7.0</td>\n",
       "    </tr>\n",
       "    <tr>\n",
       "      <th>is_legendary</th>\n",
       "      <td>801.0</td>\n",
       "      <td>8.739076e-02</td>\n",
       "      <td>0.282583</td>\n",
       "      <td>0.00</td>\n",
       "      <td>0.0</td>\n",
       "      <td>0.0</td>\n",
       "      <td>0.0</td>\n",
       "      <td>1.0</td>\n",
       "    </tr>\n",
       "  </tbody>\n",
       "</table>\n",
       "</div>"
      ],
      "text/plain": [
       "                   count          mean            std        min        25%  \\\n",
       "against_bug        801.0  9.962547e-01       0.597248       0.25        0.5   \n",
       "against_dark       801.0  1.057116e+00       0.438142       0.25        1.0   \n",
       "against_dragon     801.0  9.687890e-01       0.353058       0.00        1.0   \n",
       "against_electric   801.0  1.073970e+00       0.654962       0.00        0.5   \n",
       "against_fairy      801.0  1.068976e+00       0.522167       0.25        1.0   \n",
       "against_fight      801.0  1.065543e+00       0.717251       0.00        0.5   \n",
       "against_fire       801.0  1.135456e+00       0.691853       0.25        0.5   \n",
       "against_flying     801.0  1.192884e+00       0.604488       0.25        1.0   \n",
       "against_ghost      801.0  9.850187e-01       0.558256       0.00        1.0   \n",
       "against_grass      801.0  1.034020e+00       0.788896       0.25        0.5   \n",
       "against_ground     801.0  1.098002e+00       0.738818       0.00        1.0   \n",
       "against_ice        801.0  1.208177e+00       0.735356       0.25        0.5   \n",
       "against_normal     801.0  8.870162e-01       0.266106       0.00        1.0   \n",
       "against_poison     801.0  9.753433e-01       0.549375       0.00        0.5   \n",
       "against_psychic    801.0  1.005306e+00       0.495183       0.00        1.0   \n",
       "against_rock       801.0  1.250312e+00       0.697148       0.25        1.0   \n",
       "against_steel      801.0  9.834582e-01       0.500117       0.25        0.5   \n",
       "against_water      801.0  1.058365e+00       0.606562       0.25        0.5   \n",
       "attack             801.0  7.785768e+01      32.158820       5.00       55.0   \n",
       "base_egg_steps     801.0  7.191011e+03    6558.220422    1280.00     5120.0   \n",
       "base_happiness     801.0  6.536205e+01      19.598948       0.00       70.0   \n",
       "base_total         801.0  4.283770e+02     119.203577     180.00      320.0   \n",
       "defense            801.0  7.300874e+01      30.769159       5.00       50.0   \n",
       "experience_growth  801.0  1.054996e+06  160255.835096  600000.00  1000000.0   \n",
       "height_m           781.0  1.163892e+00       1.080326       0.10        0.6   \n",
       "hp                 801.0  6.895880e+01      26.576015       1.00       50.0   \n",
       "percentage_male    703.0  5.515576e+01      20.261623       0.00       50.0   \n",
       "pokedex_number     801.0  4.010000e+02     231.373075       1.00      201.0   \n",
       "sp_attack          801.0  7.130587e+01      32.353826      10.00       45.0   \n",
       "sp_defense         801.0  7.091136e+01      27.942501      20.00       50.0   \n",
       "speed              801.0  6.633458e+01      28.907662       5.00       45.0   \n",
       "weight_kg          781.0  6.137810e+01     109.354766       0.10        9.0   \n",
       "generation         801.0  3.690387e+00       1.930420       1.00        2.0   \n",
       "is_legendary       801.0  8.739076e-02       0.282583       0.00        0.0   \n",
       "\n",
       "                         50%        75%        max  \n",
       "against_bug              1.0        1.0        4.0  \n",
       "against_dark             1.0        1.0        4.0  \n",
       "against_dragon           1.0        1.0        2.0  \n",
       "against_electric         1.0        1.0        4.0  \n",
       "against_fairy            1.0        1.0        4.0  \n",
       "against_fight            1.0        1.0        4.0  \n",
       "against_fire             1.0        2.0        4.0  \n",
       "against_flying           1.0        1.0        4.0  \n",
       "against_ghost            1.0        1.0        4.0  \n",
       "against_grass            1.0        1.0        4.0  \n",
       "against_ground           1.0        1.0        4.0  \n",
       "against_ice              1.0        2.0        4.0  \n",
       "against_normal           1.0        1.0        1.0  \n",
       "against_poison           1.0        1.0        4.0  \n",
       "against_psychic          1.0        1.0        4.0  \n",
       "against_rock             1.0        2.0        4.0  \n",
       "against_steel            1.0        1.0        4.0  \n",
       "against_water            1.0        1.0        4.0  \n",
       "attack                  75.0      100.0      185.0  \n",
       "base_egg_steps        5120.0     6400.0    30720.0  \n",
       "base_happiness          70.0       70.0      140.0  \n",
       "base_total             435.0      505.0      780.0  \n",
       "defense                 70.0       90.0      230.0  \n",
       "experience_growth  1000000.0  1059860.0  1640000.0  \n",
       "height_m                 1.0        1.5       14.5  \n",
       "hp                      65.0       80.0      255.0  \n",
       "percentage_male         50.0       50.0      100.0  \n",
       "pokedex_number         401.0      601.0      801.0  \n",
       "sp_attack               65.0       91.0      194.0  \n",
       "sp_defense              66.0       90.0      230.0  \n",
       "speed                   65.0       85.0      180.0  \n",
       "weight_kg               27.3       64.8      999.9  \n",
       "generation               4.0        5.0        7.0  \n",
       "is_legendary             0.0        0.0        1.0  "
      ]
     },
     "execution_count": 9,
     "metadata": {},
     "output_type": "execute_result"
    }
   ],
   "source": [
    "# Informações estatísticas gerais\n",
    "df.describe().T"
   ]
  },
  {
   "attachments": {},
   "cell_type": "markdown",
   "id": "1522c14f",
   "metadata": {},
   "source": [
    "# Limpar o dataset "
   ]
  },
  {
   "attachments": {},
   "cell_type": "markdown",
   "id": "bdc6065c",
   "metadata": {},
   "source": [
    "*   **Verificar dados duplicados** "
   ]
  },
  {
   "cell_type": "code",
   "execution_count": 10,
   "id": "68d0ab4b",
   "metadata": {},
   "outputs": [
    {
     "data": {
      "text/html": [
       "<div>\n",
       "<style scoped>\n",
       "    .dataframe tbody tr th:only-of-type {\n",
       "        vertical-align: middle;\n",
       "    }\n",
       "\n",
       "    .dataframe tbody tr th {\n",
       "        vertical-align: top;\n",
       "    }\n",
       "\n",
       "    .dataframe thead th {\n",
       "        text-align: right;\n",
       "    }\n",
       "</style>\n",
       "<table border=\"1\" class=\"dataframe\">\n",
       "  <thead>\n",
       "    <tr style=\"text-align: right;\">\n",
       "      <th></th>\n",
       "      <th>abilities</th>\n",
       "      <th>against_bug</th>\n",
       "      <th>against_dark</th>\n",
       "      <th>against_dragon</th>\n",
       "      <th>against_electric</th>\n",
       "      <th>against_fairy</th>\n",
       "      <th>against_fight</th>\n",
       "      <th>against_fire</th>\n",
       "      <th>against_flying</th>\n",
       "      <th>against_ghost</th>\n",
       "      <th>against_grass</th>\n",
       "      <th>against_ground</th>\n",
       "      <th>against_ice</th>\n",
       "      <th>against_normal</th>\n",
       "      <th>against_poison</th>\n",
       "      <th>against_psychic</th>\n",
       "      <th>against_rock</th>\n",
       "      <th>against_steel</th>\n",
       "      <th>against_water</th>\n",
       "      <th>attack</th>\n",
       "      <th>base_egg_steps</th>\n",
       "      <th>base_happiness</th>\n",
       "      <th>base_total</th>\n",
       "      <th>capture_rate</th>\n",
       "      <th>classfication</th>\n",
       "      <th>defense</th>\n",
       "      <th>experience_growth</th>\n",
       "      <th>height_m</th>\n",
       "      <th>hp</th>\n",
       "      <th>japanese_name</th>\n",
       "      <th>name</th>\n",
       "      <th>percentage_male</th>\n",
       "      <th>pokedex_number</th>\n",
       "      <th>sp_attack</th>\n",
       "      <th>sp_defense</th>\n",
       "      <th>speed</th>\n",
       "      <th>type1</th>\n",
       "      <th>type2</th>\n",
       "      <th>weight_kg</th>\n",
       "      <th>generation</th>\n",
       "      <th>is_legendary</th>\n",
       "    </tr>\n",
       "  </thead>\n",
       "  <tbody>\n",
       "  </tbody>\n",
       "</table>\n",
       "</div>"
      ],
      "text/plain": [
       "Empty DataFrame\n",
       "Columns: [abilities, against_bug, against_dark, against_dragon, against_electric, against_fairy, against_fight, against_fire, against_flying, against_ghost, against_grass, against_ground, against_ice, against_normal, against_poison, against_psychic, against_rock, against_steel, against_water, attack, base_egg_steps, base_happiness, base_total, capture_rate, classfication, defense, experience_growth, height_m, hp, japanese_name, name, percentage_male, pokedex_number, sp_attack, sp_defense, speed, type1, type2, weight_kg, generation, is_legendary]\n",
       "Index: []"
      ]
     },
     "execution_count": 10,
     "metadata": {},
     "output_type": "execute_result"
    }
   ],
   "source": [
    "# Verificar linhas duplicadas\n",
    "df[df.duplicated()]"
   ]
  },
  {
   "cell_type": "code",
   "execution_count": 11,
   "id": "d948bb3e",
   "metadata": {},
   "outputs": [
    {
     "data": {
      "text/plain": [
       "(3, 41)"
      ]
     },
     "execution_count": 11,
     "metadata": {},
     "output_type": "execute_result"
    }
   ],
   "source": [
    "# Demonstração de valores duplicados\n",
    "df_2 = pd.concat([df, df.iloc[0:3]])\n",
    "df_2[df_2.duplicated()].shape"
   ]
  },
  {
   "cell_type": "code",
   "execution_count": 12,
   "id": "1aaa6f1d",
   "metadata": {},
   "outputs": [
    {
     "data": {
      "text/plain": [
       "801"
      ]
     },
     "execution_count": 12,
     "metadata": {},
     "output_type": "execute_result"
    }
   ],
   "source": [
    "# Chave de uma tabela\n",
    "df[df['pokedex_number'].duplicated()]\n",
    "df['pokedex_number'].nunique()"
   ]
  },
  {
   "attachments": {},
   "cell_type": "markdown",
   "id": "c36a2969",
   "metadata": {},
   "source": [
    "* **Verificar dados nulos**"
   ]
  },
  {
   "cell_type": "code",
   "execution_count": 13,
   "id": "e3b7e4d1",
   "metadata": {},
   "outputs": [
    {
     "data": {
      "text/plain": [
       "abilities            False\n",
       "against_bug          False\n",
       "against_dark         False\n",
       "against_dragon       False\n",
       "against_electric     False\n",
       "against_fairy        False\n",
       "against_fight        False\n",
       "against_fire         False\n",
       "against_flying       False\n",
       "against_ghost        False\n",
       "against_grass        False\n",
       "against_ground       False\n",
       "against_ice          False\n",
       "against_normal       False\n",
       "against_poison       False\n",
       "against_psychic      False\n",
       "against_rock         False\n",
       "against_steel        False\n",
       "against_water        False\n",
       "attack               False\n",
       "base_egg_steps       False\n",
       "base_happiness       False\n",
       "base_total           False\n",
       "capture_rate         False\n",
       "classfication        False\n",
       "defense              False\n",
       "experience_growth    False\n",
       "height_m              True\n",
       "hp                   False\n",
       "japanese_name        False\n",
       "name                 False\n",
       "percentage_male       True\n",
       "pokedex_number       False\n",
       "sp_attack            False\n",
       "sp_defense           False\n",
       "speed                False\n",
       "type1                False\n",
       "type2                 True\n",
       "weight_kg             True\n",
       "generation           False\n",
       "is_legendary         False\n",
       "dtype: bool"
      ]
     },
     "execution_count": 13,
     "metadata": {},
     "output_type": "execute_result"
    }
   ],
   "source": [
    "df.isnull().any()"
   ]
  },
  {
   "cell_type": "code",
   "execution_count": 14,
   "id": "41b37b1a",
   "metadata": {},
   "outputs": [
    {
     "data": {
      "text/plain": [
       "abilities            False\n",
       "against_bug          False\n",
       "against_dark         False\n",
       "against_dragon       False\n",
       "against_electric     False\n",
       "against_fairy        False\n",
       "against_fight        False\n",
       "against_fire         False\n",
       "against_flying       False\n",
       "against_ghost        False\n",
       "against_grass        False\n",
       "against_ground       False\n",
       "against_ice          False\n",
       "against_normal       False\n",
       "against_poison       False\n",
       "against_psychic      False\n",
       "against_rock         False\n",
       "against_steel        False\n",
       "against_water        False\n",
       "attack               False\n",
       "base_egg_steps       False\n",
       "base_happiness       False\n",
       "base_total           False\n",
       "capture_rate         False\n",
       "classfication        False\n",
       "defense              False\n",
       "experience_growth    False\n",
       "height_m             False\n",
       "hp                   False\n",
       "japanese_name        False\n",
       "name                 False\n",
       "percentage_male      False\n",
       "pokedex_number       False\n",
       "sp_attack            False\n",
       "sp_defense           False\n",
       "speed                False\n",
       "type1                False\n",
       "type2                False\n",
       "weight_kg            False\n",
       "generation           False\n",
       "is_legendary         False\n",
       "dtype: bool"
      ]
     },
     "execution_count": 14,
     "metadata": {},
     "output_type": "execute_result"
    }
   ],
   "source": [
    "df.isnull().all()"
   ]
  },
  {
   "cell_type": "code",
   "execution_count": 15,
   "id": "bdeab303",
   "metadata": {},
   "outputs": [
    {
     "data": {
      "text/plain": [
       "Index(['height_m', 'percentage_male', 'type2', 'weight_kg'], dtype='object')"
      ]
     },
     "execution_count": 15,
     "metadata": {},
     "output_type": "execute_result"
    }
   ],
   "source": [
    "series_has_null = df.isnull().any()\n",
    "series_has_null[series_has_null == True].keys()"
   ]
  },
  {
   "cell_type": "code",
   "execution_count": 16,
   "id": "e66f0b0a",
   "metadata": {},
   "outputs": [
    {
     "name": "stdout",
     "output_type": "stream",
     "text": [
      "<class 'pandas.core.frame.DataFrame'>\n",
      "RangeIndex: 801 entries, 0 to 800\n",
      "Data columns (total 4 columns):\n",
      " #   Column           Non-Null Count  Dtype  \n",
      "---  ------           --------------  -----  \n",
      " 0   height_m         781 non-null    float64\n",
      " 1   percentage_male  703 non-null    float64\n",
      " 2   type2            417 non-null    object \n",
      " 3   weight_kg        781 non-null    float64\n",
      "dtypes: float64(3), object(1)\n",
      "memory usage: 25.2+ KB\n"
     ]
    }
   ],
   "source": [
    "list_col_with_null = list(series_has_null[series_has_null == True].keys())\n",
    "df[list_col_with_null].info()"
   ]
  },
  {
   "cell_type": "code",
   "execution_count": null,
   "id": "0cd040c1",
   "metadata": {},
   "outputs": [],
   "source": []
  },
  {
   "attachments": {},
   "cell_type": "markdown",
   "id": "5fee3b13",
   "metadata": {},
   "source": [
    "* **Peso e Altura**"
   ]
  },
  {
   "cell_type": "code",
   "execution_count": 17,
   "id": "6bdde012",
   "metadata": {},
   "outputs": [
    {
     "data": {
      "text/plain": [
       "2.5"
      ]
     },
     "execution_count": 17,
     "metadata": {},
     "output_type": "execute_result"
    }
   ],
   "source": [
    "round((df['height_m'].value_counts(normalize = True, dropna = False) * 100).loc[np.nan],2)"
   ]
  },
  {
   "cell_type": "code",
   "execution_count": 18,
   "id": "cfcead26",
   "metadata": {},
   "outputs": [
    {
     "data": {
      "text/plain": [
       "2.5"
      ]
     },
     "execution_count": 18,
     "metadata": {},
     "output_type": "execute_result"
    }
   ],
   "source": [
    "round((df['weight_kg'].value_counts(normalize = True, dropna = False) * 100).loc[np.nan],2)"
   ]
  },
  {
   "cell_type": "code",
   "execution_count": 19,
   "id": "8ce0da6a",
   "metadata": {},
   "outputs": [
    {
     "name": "stdout",
     "output_type": "stream",
     "text": [
      "Média:  1.16\n",
      "Mediana:  1.0\n",
      "Moda:  0    0.6\n",
      "Name: height_m, dtype: float64\n"
     ]
    },
    {
     "data": {
      "text/plain": [
       "<Axes: >"
      ]
     },
     "execution_count": 19,
     "metadata": {},
     "output_type": "execute_result"
    },
    {
     "data": {
      "image/png": "[encoded data removed]",
      "text/plain": [
       "<Figure size 640x480 with 1 Axes>"
      ]
     },
     "metadata": {},
     "output_type": "display_data"
    }
   ],
   "source": [
    "print(\"Média: \", round(df['height_m'].mean(), 2))\n",
    "print(\"Mediana: \", round(df['height_m'].median(), 2))\n",
    "print(\"Moda: \", round(df['height_m'].mode(), 2))\n",
    "\n",
    "df['height_m'].hist(bins = 100)"
   ]
  },
  {
   "cell_type": "code",
   "execution_count": 20,
   "id": "ef829249",
   "metadata": {},
   "outputs": [
    {
     "data": {
      "text/plain": [
       "<bound method NDFrame._add_numeric_operations.<locals>.std of 0      1.00\n",
       "1      1.00\n",
       "2      1.00\n",
       "3      0.50\n",
       "4      0.50\n",
       "       ... \n",
       "796    0.25\n",
       "797    1.00\n",
       "798    2.00\n",
       "799    2.00\n",
       "800    0.25\n",
       "Name: against_bug, Length: 801, dtype: float64>"
      ]
     },
     "execution_count": 20,
     "metadata": {},
     "output_type": "execute_result"
    }
   ],
   "source": [
    "df['against_bug'].std "
   ]
  },
  {
   "cell_type": "code",
   "execution_count": 21,
   "id": "6e483d59",
   "metadata": {},
   "outputs": [
    {
     "name": "stdout",
     "output_type": "stream",
     "text": [
      "Média:  61.38\n",
      "Mediana:  27.3\n",
      "Moda:  0    15.0\n",
      "Name: weight_kg, dtype: float64\n"
     ]
    },
    {
     "data": {
      "text/plain": [
       "<Axes: >"
      ]
     },
     "execution_count": 21,
     "metadata": {},
     "output_type": "execute_result"
    },
    {
     "data": {
      "image/png": "[encoded data removed]",
      "text/plain": [
       "<Figure size 640x480 with 1 Axes>"
      ]
     },
     "metadata": {},
     "output_type": "display_data"
    }
   ],
   "source": [
    "print(\"Média: \", round(df['weight_kg'].mean(), 2))\n",
    "print(\"Mediana: \", round(df['weight_kg'].median(), 2))\n",
    "print(\"Moda: \", round(df['weight_kg'].mode(), 2))\n",
    "\n",
    "df['weight_kg'].hist(bins = 100)"
   ]
  },
  {
   "cell_type": "code",
   "execution_count": 22,
   "id": "4effd12e",
   "metadata": {},
   "outputs": [],
   "source": [
    "df['height_m'] = df['height_m'].fillna(df['height_m'].median())"
   ]
  },
  {
   "cell_type": "code",
   "execution_count": 23,
   "id": "6eb27ffd",
   "metadata": {},
   "outputs": [],
   "source": [
    "df['weight_kg'] = df['weight_kg'].fillna(df['weight_kg'].median())"
   ]
  },
  {
   "attachments": {},
   "cell_type": "markdown",
   "id": "a09f9043",
   "metadata": {},
   "source": [
    "Genero e Tipo 2"
   ]
  },
  {
   "cell_type": "code",
   "execution_count": 24,
   "id": "00b1e2c4",
   "metadata": {},
   "outputs": [
    {
     "data": {
      "text/plain": [
       "50.0     501\n",
       "88.1     111\n",
       "NaN       98\n",
       "0.0       27\n",
       "24.6      24\n",
       "100.0     19\n",
       "75.4      19\n",
       "11.2       2\n",
       "Name: percentage_male, dtype: int64"
      ]
     },
     "execution_count": 24,
     "metadata": {},
     "output_type": "execute_result"
    }
   ],
   "source": [
    "df ['percentage_male'].value_counts(dropna = False)"
   ]
  },
  {
   "cell_type": "code",
   "execution_count": 25,
   "id": "0fd270dd",
   "metadata": {},
   "outputs": [
    {
     "data": {
      "text/plain": [
       "NaN         384\n",
       "flying       95\n",
       "poison       34\n",
       "ground       34\n",
       "psychic      29\n",
       "fairy        29\n",
       "fighting     25\n",
       "steel        22\n",
       "dark         21\n",
       "grass        20\n",
       "water        17\n",
       "dragon       17\n",
       "ice          15\n",
       "rock         14\n",
       "ghost        14\n",
       "fire         13\n",
       "electric      9\n",
       "bug           5\n",
       "normal        4\n",
       "Name: type2, dtype: int64"
      ]
     },
     "execution_count": 25,
     "metadata": {},
     "output_type": "execute_result"
    }
   ],
   "source": [
    "df['type2'].value_counts(dropna = False)"
   ]
  },
  {
   "cell_type": "code",
   "execution_count": 26,
   "id": "f035cfae",
   "metadata": {},
   "outputs": [],
   "source": [
    "df['percentage_male'] = df['percentage_male'].fillna('genderless')\n",
    "df['type2'] = df['type2'].fillna('without_type2')"
   ]
  },
  {
   "cell_type": "code",
   "execution_count": 27,
   "id": "a2b555de",
   "metadata": {},
   "outputs": [
    {
     "name": "stdout",
     "output_type": "stream",
     "text": [
      "<class 'pandas.core.frame.DataFrame'>\n",
      "RangeIndex: 801 entries, 0 to 800\n",
      "Data columns (total 41 columns):\n",
      " #   Column             Non-Null Count  Dtype  \n",
      "---  ------             --------------  -----  \n",
      " 0   abilities          801 non-null    object \n",
      " 1   against_bug        801 non-null    float64\n",
      " 2   against_dark       801 non-null    float64\n",
      " 3   against_dragon     801 non-null    float64\n",
      " 4   against_electric   801 non-null    float64\n",
      " 5   against_fairy      801 non-null    float64\n",
      " 6   against_fight      801 non-null    float64\n",
      " 7   against_fire       801 non-null    float64\n",
      " 8   against_flying     801 non-null    float64\n",
      " 9   against_ghost      801 non-null    float64\n",
      " 10  against_grass      801 non-null    float64\n",
      " 11  against_ground     801 non-null    float64\n",
      " 12  against_ice        801 non-null    float64\n",
      " 13  against_normal     801 non-null    float64\n",
      " 14  against_poison     801 non-null    float64\n",
      " 15  against_psychic    801 non-null    float64\n",
      " 16  against_rock       801 non-null    float64\n",
      " 17  against_steel      801 non-null    float64\n",
      " 18  against_water      801 non-null    float64\n",
      " 19  attack             801 non-null    int64  \n",
      " 20  base_egg_steps     801 non-null    int64  \n",
      " 21  base_happiness     801 non-null    int64  \n",
      " 22  base_total         801 non-null    int64  \n",
      " 23  capture_rate       801 non-null    object \n",
      " 24  classfication      801 non-null    object \n",
      " 25  defense            801 non-null    int64  \n",
      " 26  experience_growth  801 non-null    int64  \n",
      " 27  height_m           801 non-null    float64\n",
      " 28  hp                 801 non-null    int64  \n",
      " 29  japanese_name      801 non-null    object \n",
      " 30  name               801 non-null    object \n",
      " 31  percentage_male    801 non-null    object \n",
      " 32  pokedex_number     801 non-null    int64  \n",
      " 33  sp_attack          801 non-null    int64  \n",
      " 34  sp_defense         801 non-null    int64  \n",
      " 35  speed              801 non-null    int64  \n",
      " 36  type1              801 non-null    object \n",
      " 37  type2              801 non-null    object \n",
      " 38  weight_kg          801 non-null    float64\n",
      " 39  generation         801 non-null    int64  \n",
      " 40  is_legendary       801 non-null    int64  \n",
      "dtypes: float64(20), int64(13), object(8)\n",
      "memory usage: 256.7+ KB\n"
     ]
    }
   ],
   "source": [
    "df.info()"
   ]
  },
  {
   "attachments": {},
   "cell_type": "markdown",
   "id": "842e118a",
   "metadata": {},
   "source": [
    "* **Informações estranhas** "
   ]
  },
  {
   "cell_type": "code",
   "execution_count": 28,
   "id": "b73a95db",
   "metadata": {},
   "outputs": [
    {
     "data": {
      "text/plain": [
       "45                          250\n",
       "190                          75\n",
       "255                          69\n",
       "75                           61\n",
       "3                            58\n",
       "120                          55\n",
       "60                           50\n",
       "90                           38\n",
       "30                           20\n",
       "200                          19\n",
       "225                          15\n",
       "25                           13\n",
       "180                          11\n",
       "50                            7\n",
       "150                           7\n",
       "235                           7\n",
       "100                           6\n",
       "140                           6\n",
       "127                           5\n",
       "70                            4\n",
       "65                            3\n",
       "125                           3\n",
       "55                            3\n",
       "170                           2\n",
       "130                           2\n",
       "15                            2\n",
       "220                           2\n",
       "80                            2\n",
       "205                           1\n",
       "155                           1\n",
       "145                           1\n",
       "35                            1\n",
       "160                           1\n",
       "30 (Meteorite)255 (Core)      1\n",
       "Name: capture_rate, dtype: int64"
      ]
     },
     "execution_count": 28,
     "metadata": {},
     "output_type": "execute_result"
    }
   ],
   "source": [
    "df.capture_rate.value_counts()"
   ]
  },
  {
   "cell_type": "code",
   "execution_count": 29,
   "id": "7afd5c14",
   "metadata": {},
   "outputs": [
    {
     "data": {
      "text/plain": [
       "773    Meteor Pokémon\n",
       "Name: classfication, dtype: object"
      ]
     },
     "execution_count": 29,
     "metadata": {},
     "output_type": "execute_result"
    }
   ],
   "source": [
    "df[df['capture_rate'] == '30 (Meteorite)255 (Core)']['classfication']"
   ]
  },
  {
   "cell_type": "code",
   "execution_count": 30,
   "id": "7e7a7c05",
   "metadata": {},
   "outputs": [],
   "source": [
    "df['capture_rate'].replace({'30 (Meteorite)255 (Core)' : '30'}, inplace = True)"
   ]
  },
  {
   "cell_type": "code",
   "execution_count": 31,
   "id": "0e1f4fbd",
   "metadata": {},
   "outputs": [],
   "source": [
    "df['capture_rate'] = df['capture_rate'].astype(int)"
   ]
  },
  {
   "cell_type": "code",
   "execution_count": 32,
   "id": "789e83c9",
   "metadata": {},
   "outputs": [
    {
     "data": {
      "text/plain": [
       "dtype('int64')"
      ]
     },
     "execution_count": 32,
     "metadata": {},
     "output_type": "execute_result"
    }
   ],
   "source": [
    "df['capture_rate'].dtype"
   ]
  },
  {
   "cell_type": "code",
   "execution_count": 33,
   "id": "7b6653ba",
   "metadata": {},
   "outputs": [
    {
     "data": {
      "text/plain": [
       "45     250\n",
       "190     75\n",
       "255     69\n",
       "75      61\n",
       "3       58\n",
       "120     55\n",
       "60      50\n",
       "90      38\n",
       "30      21\n",
       "200     19\n",
       "225     15\n",
       "25      13\n",
       "180     11\n",
       "50       7\n",
       "150      7\n",
       "235      7\n",
       "100      6\n",
       "140      6\n",
       "127      5\n",
       "70       4\n",
       "125      3\n",
       "65       3\n",
       "55       3\n",
       "170      2\n",
       "130      2\n",
       "15       2\n",
       "220      2\n",
       "80       2\n",
       "205      1\n",
       "155      1\n",
       "145      1\n",
       "35       1\n",
       "160      1\n",
       "Name: capture_rate, dtype: int64"
      ]
     },
     "execution_count": 33,
     "metadata": {},
     "output_type": "execute_result"
    }
   ],
   "source": [
    "df['capture_rate'].value_counts()"
   ]
  },
  {
   "attachments": {},
   "cell_type": "markdown",
   "id": "e5507cef",
   "metadata": {},
   "source": [
    "Testes"
   ]
  },
  {
   "cell_type": "code",
   "execution_count": 34,
   "id": "e83a665c",
   "metadata": {},
   "outputs": [],
   "source": [
    "number_of_unique_class = df['classfication'].nunique()"
   ]
  },
  {
   "cell_type": "code",
   "execution_count": 35,
   "id": "ed3a6ccb",
   "metadata": {},
   "outputs": [
    {
     "name": "stdout",
     "output_type": "stream",
     "text": [
      "Number of unique class: 588\n"
     ]
    }
   ],
   "source": [
    "print(f\"Number of unique class: {number_of_unique_class}\")"
   ]
  },
  {
   "cell_type": "code",
   "execution_count": 36,
   "id": "e7b3b667",
   "metadata": {},
   "outputs": [
    {
     "data": {
      "text/plain": [
       "1    151\n",
       "2    100\n",
       "3    135\n",
       "4    107\n",
       "5    156\n",
       "6     72\n",
       "7     80\n",
       "Name: generation, dtype: int64"
      ]
     },
     "execution_count": 36,
     "metadata": {},
     "output_type": "execute_result"
    }
   ],
   "source": [
    "#Verificar a quantidade de pokemons por geração\n",
    "df['generation'].value_counts(sort=False, dropna=False)"
   ]
  },
  {
   "cell_type": "code",
   "execution_count": 37,
   "id": "e5a9713d",
   "metadata": {},
   "outputs": [
    {
     "name": "stdout",
     "output_type": "stream",
     "text": [
      "O ataque especial médio dos pokemons é 71.31\n"
     ]
    }
   ],
   "source": [
    "#Ataque especial médio de todos os Pokémons\n",
    "mean_sp_attack = df['sp_attack'].mean()\n",
    "print(f\"O ataque especial médio dos pokemons é {mean_sp_attack:.2f}\")"
   ]
  },
  {
   "cell_type": "code",
   "execution_count": 38,
   "id": "130c9061",
   "metadata": {},
   "outputs": [
    {
     "data": {
      "text/plain": [
       "1    151\n",
       "2    100\n",
       "3    135\n",
       "4    107\n",
       "5    156\n",
       "6     72\n",
       "7     80\n",
       "Name: generation, dtype: int64"
      ]
     },
     "execution_count": 38,
     "metadata": {},
     "output_type": "execute_result"
    }
   ],
   "source": [
    "#Quantos pokemons existem em cada geracao =\n",
    "df['generation'].value_counts(sort=False, dropna=False)"
   ]
  },
  {
   "cell_type": "code",
   "execution_count": 39,
   "id": "efb6483d",
   "metadata": {},
   "outputs": [
    {
     "data": {
      "text/plain": [
       "generation\n",
       "1    151\n",
       "2    100\n",
       "3    135\n",
       "4    107\n",
       "5    156\n",
       "6     72\n",
       "7     80\n",
       "Name: pokedex_number, dtype: int64"
      ]
     },
     "execution_count": 39,
     "metadata": {},
     "output_type": "execute_result"
    }
   ],
   "source": [
    "df.groupby('generation')['pokedex_number'].count()"
   ]
  },
  {
   "cell_type": "code",
   "execution_count": 40,
   "id": "a05f0435",
   "metadata": {},
   "outputs": [
    {
     "name": "stdout",
     "output_type": "stream",
     "text": [
      "O tipo 1 menos comum é flying    3\n",
      "Name: type1, dtype: int64\n"
     ]
    }
   ],
   "source": [
    "#Qual é o tipo 1 de pokemon menos comum\n",
    "lest_common_type1 = df['type1'].value_counts().tail(1)\n",
    "print(f\"O tipo 1 menos comum é {lest_common_type1}\")"
   ]
  },
  {
   "cell_type": "code",
   "execution_count": 41,
   "id": "21078d27",
   "metadata": {},
   "outputs": [
    {
     "name": "stdout",
     "output_type": "stream",
     "text": [
      "O tipo 1 mais comum é water    114\n",
      "Name: type1, dtype: int64\n"
     ]
    }
   ],
   "source": [
    "#Qual é o tipo 1 de pokemon mais comum\n",
    "most_common_type1 = df['type1'].value_counts().head(1)\n",
    "print(f\"O tipo 1 mais comum é {most_common_type1}\")"
   ]
  },
  {
   "cell_type": "code",
   "execution_count": 42,
   "id": "9307e219",
   "metadata": {},
   "outputs": [
    {
     "name": "stdout",
     "output_type": "stream",
     "text": [
      "Existem 70 pokemons lendarios\n"
     ]
    }
   ],
   "source": [
    "#Quantos pokemons lendarios estao no conjunto de dados\n",
    "qtd_legendary = df['is_legendary'].value_counts().loc[1]\n",
    "sum(df['is_legendary'])\n",
    "print(f\"Existem {qtd_legendary} pokemons lendarios\")    "
   ]
  },
  {
   "cell_type": "code",
   "execution_count": 43,
   "id": "17809b67",
   "metadata": {},
   "outputs": [
    {
     "name": "stdout",
     "output_type": "stream",
     "text": [
      "O pokemon mais pesado é 789       Cosmoem\n",
      "796    Celesteela\n",
      "Name: name, dtype: object\n"
     ]
    }
   ],
   "source": [
    "#Qual é o pokemon mais pesado\n",
    "df[df['weight_kg'] == df['weight_kg'].max()]\n",
    "print(f\"O pokemon mais pesado é {df[df['weight_kg'] == df['weight_kg'].max()]['name']}\")"
   ]
  },
  {
   "cell_type": "code",
   "execution_count": 44,
   "id": "949c8ecb",
   "metadata": {},
   "outputs": [
    {
     "name": "stdout",
     "output_type": "stream",
     "text": [
      "O ataque especial médio dos pokemons lendarios é 113.76\n"
     ]
    }
   ],
   "source": [
    "#Qual é o ataque especial médio dos pokemons lendarios\n",
    "mean_sp_attack_legendary = df[df['is_legendary'] == 1]['sp_attack'].mean()\n",
    "print(f\"O ataque especial médio dos pokemons lendarios é {mean_sp_attack_legendary:.2f}\")"
   ]
  },
  {
   "cell_type": "code",
   "execution_count": 45,
   "id": "88631203",
   "metadata": {},
   "outputs": [
    {
     "name": "stdout",
     "output_type": "stream",
     "text": [
      "O pokemon mais rápido é 385    Deoxys\n",
      "Name: name, dtype: object\n"
     ]
    }
   ],
   "source": [
    "#QUal o pokemon venceria uma corrida se a velocidade fosse o fator\n",
    "fastest_pokemon = df[df['speed'] == df['speed'].max()]['name'] \n",
    "print(f\"O pokemon mais rápido é {fastest_pokemon}\")"
   ]
  },
  {
   "cell_type": "code",
   "execution_count": 46,
   "id": "b5cafed6",
   "metadata": {},
   "outputs": [
    {
     "name": "stdout",
     "output_type": "stream",
     "text": [
      "O pokemon melhor para esconde-esconde é Series([], Name: name, dtype: object)\n"
     ]
    }
   ],
   "source": [
    "#qual o pokemon seria o melhor em esconde-esconde com base em seu hp e velocidade \n",
    "hide_and_seek = df[(df['hp'] == df['hp'].max()) & (df['speed'] == df['speed'].max())]['name']\n",
    "print(f\"O pokemon melhor para esconde-esconde é {hide_and_seek}\")"
   ]
  },
  {
   "cell_type": "code",
   "execution_count": 47,
   "id": "8fc77559",
   "metadata": {},
   "outputs": [
    {
     "name": "stdout",
     "output_type": "stream",
     "text": [
      "O pokemon com o nome mais longo é 739    Crabominable\n",
      "Name: name, dtype: object\n"
     ]
    }
   ],
   "source": [
    "#Qual o pokemon tem o nome mais longo\n",
    "longest_name = df[df['name'].str.len() == df['name'].str.len().max()]['name']\n",
    "print(f\"O pokemon com o nome mais longo é {longest_name}\")"
   ]
  },
  {
   "cell_type": "code",
   "execution_count": 48,
   "id": "a00cac7a",
   "metadata": {},
   "outputs": [
    {
     "name": "stdout",
     "output_type": "stream",
     "text": [
      "O tipo 1 mais comum entre os pokemons lendarios é psychic    17\n",
      "Name: type1, dtype: int64\n"
     ]
    }
   ],
   "source": [
    "#Qual é o tipo 1 mais comum entre os pokemons lendarios\n",
    "most_common_type1_legendary = df[df['is_legendary'] == 1]['type1'].value_counts().head(1)\n",
    "print(f\"O tipo 1 mais comum entre os pokemons lendarios é {most_common_type1_legendary}\")"
   ]
  },
  {
   "cell_type": "code",
   "execution_count": 55,
   "id": "e133de85",
   "metadata": {},
   "outputs": [
    {
     "name": "stdout",
     "output_type": "stream",
     "text": [
      "glass_cannon: 213    Heracross\n",
      "Name: name, dtype: object\n"
     ]
    }
   ],
   "source": [
    "#Qual o pokemon com o maior valor de atque mas o menor valor valor de defesa\n",
    "glass_cannon = df[(df['attack'] == df['attack'].max())]\n",
    "glass_cannon = glass_cannon[glass_cannon['defense'] == glass_cannon['defense'].min()]['name']\n",
    "print(f\"glass_cannon: {glass_cannon}\")"
   ]
  },
  {
   "attachments": {},
   "cell_type": "markdown",
   "id": "674a4fcf",
   "metadata": {},
   "source": []
  },
  {
   "cell_type": "code",
   "execution_count": 56,
   "id": "ad562132",
   "metadata": {},
   "outputs": [
    {
     "name": "stdout",
     "output_type": "stream",
     "text": [
      "O pokemon com mais vogais no nome é 30        Nidoqueen\n",
      "184       Sudowoodo\n",
      "283      Masquerain\n",
      "536      Seismitoad\n",
      "552      Krookodile\n",
      "693      Helioptile\n",
      "723       Decidueye\n",
      "739    Crabominable\n",
      "746        Mareanie\n",
      "776      Togedemaru\n",
      "796      Celesteela\n",
      "Name: name, dtype: object\n"
     ]
    }
   ],
   "source": [
    "#Qual o pokemon com mais vogais no seu nome \n",
    "def count_vowels(name):\n",
    "    vowels = ['a', 'e', 'i', 'o', 'u']\n",
    "    count = 0\n",
    "    for letter in name:\n",
    "        if letter in vowels:\n",
    "            count += 1\n",
    "    return count\n",
    "\n",
    "df['vowels'] = df['name'].apply(count_vowels)\n",
    "most_vowels = df[df['vowels'] == df['vowels'].max()]['name']\n",
    "print(f\"O pokemon com mais vogais no nome é {most_vowels}\")\n"
   ]
  },
  {
   "cell_type": "code",
   "execution_count": 57,
   "id": "59215413",
   "metadata": {},
   "outputs": [
    {
     "name": "stdout",
     "output_type": "stream",
     "text": [
      "Existem 0 pokemons que tem nomes que sao palindromos\n"
     ]
    }
   ],
   "source": [
    "# Quantos pokemons que tem nomes que sao palindromos\n",
    "def is_palindrome(name):\n",
    "    return name == name[::-1]\n",
    "\n",
    "df['palindrome'] = df['name'].apply(is_palindrome)\n",
    "qtd_palindrome = df[df['palindrome'] == True]['name'].count()\n",
    "print(f\"Existem {qtd_palindrome} pokemons que tem nomes que sao palindromos\")"
   ]
  },
  {
   "cell_type": "code",
   "execution_count": 58,
   "id": "ddc269ae",
   "metadata": {},
   "outputs": [
    {
     "name": "stdout",
     "output_type": "stream",
     "text": [
      "O peso medio de todos os pokemons com tipo 1 fogo é 64.60\n"
     ]
    }
   ],
   "source": [
    "#Qual eh o peso medio de todos os pokemons com tipo 1 fogo\n",
    "mean_weight_fire = df[df['type1'] == 'fire']['weight_kg'].mean()\n",
    "print(f\"O peso medio de todos os pokemons com tipo 1 fogo é {mean_weight_fire:.2f}\")"
   ]
  },
  {
   "cell_type": "code",
   "execution_count": null,
   "id": "8cc1a2bb",
   "metadata": {},
   "outputs": [],
   "source": []
  }
 ],
 "metadata": {
  "kernelspec": {
   "display_name": "Python 3 (ipykernel)",
   "language": "python",
   "name": "python3"
  },
  "language_info": {
   "codemirror_mode": {
    "name": "ipython",
    "version": 3
   },
   "file_extension": ".py",
   "mimetype": "text/x-python",
   "name": "python",
   "nbconvert_exporter": "python",
   "pygments_lexer": "ipython3",
   "version": "3.11.2"
  }
 },
 "nbformat": 4,
 "nbformat_minor": 5
}
